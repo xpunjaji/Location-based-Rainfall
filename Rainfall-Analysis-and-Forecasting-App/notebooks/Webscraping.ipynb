{
 "cells": [
  {
   "cell_type": "markdown",
   "metadata": {},
   "source": [
    "#  Weather Patterns with Meteostat"
   ]
  },
  {
   "cell_type": "markdown",
   "metadata": {},
   "source": [
    "Selecting a specific location on a map, choosing a date range, downloading the data for that location, selecting variables to visualize, and then plotting and saving this data"
   ]
  },
  {
   "cell_type": "markdown",
   "metadata": {},
   "source": [
    "The following Python code imports several libraries necessary for interactive data visualization and analysis:\n",
    "\n",
    "### ipywidgets\n",
    "- The `ipywidgets` library provides interactive user interface (UI) elements, such as buttons and dropdowns, for Jupyter notebooks.\n",
    "\n",
    "### ipyleaflet\n",
    "- The `ipyleaflet` library enables the creation of interactive maps within Jupyter notebooks, allowing for geographical data visualization and interaction.\n",
    "\n",
    "### matplotlib.pyplot\n",
    "- The `matplotlib.pyplot` module, often imported as `plt`, is a plotting library used to create 2D graphs and visualizations.\n",
    "\n",
    "### seaborn\n",
    "- The `seaborn` library enhances the visual aesthetics of plots created with `matplotlib`. It provides a high-level interface for creating attractive statistical graphics.\n",
    "\n",
    "### pandas\n",
    "- The `pandas` library is a powerful data manipulation and analysis tool, particularly suited for working with structured data such as tabular data.\n",
    "\n",
    "### meteostat\n",
    "- The `meteostat` library provides access to historical weather and climate data from various sources. It allows users to retrieve and analyze weather data such as temperature, precipitation, and wind speed.\n",
    "\n",
    "## [About Meteostat](https://dev.meteostat.net/python/#installation)\n",
    "The Meteostat library is a Python package that provides access to historical weather and climate data from various sources. It allows users to retrieve and analyze weather data such as temperature, precipitation, wind speed, and more for specific locations and time periods.\n",
    "### Interpolation Methods\n",
    "\n",
    "When working with point data in environmental analysis, it's often necessary to fill in missing information to create more complete time series. Meteostat offers interpolation methods to accomplish this task, leveraging data from multiple weather stations.\n",
    "\n",
    "### Overview\n",
    "\n",
    "Meteostat interpolates data based on the geographical distance between different weather stations and the reference point of the query. Additionally, it adjusts measurements according to differences in altitude. By projecting existing observations from weather stations onto the specified location, Meteostat provides interpolated data for precise analysis.\n",
    "\n",
    "### Nearest Neighbor\n",
    "\n",
    "Nearest neighbor interpolation is a straightforward method that selects the closest weather station for each record and combines all available data into a unified DataFrame. Meteostat uses this interpolation method by default.\n",
    "\n",
    "### Weighted Average\n",
    "\n",
    "An alternative approach is weighted average interpolation. This method considers the geographical similarity between nearby weather stations and the specified point. It assigns weights to all available data based on their proximity and aggregates them to produce an interpolated output.\n",
    "\n"
   ]
  },
  {
   "cell_type": "code",
   "execution_count": 2,
   "metadata": {},
   "outputs": [],
   "source": [
    "import ipywidgets as widgets\n",
    "from ipyleaflet import Map, Marker, basemaps\n",
    "import matplotlib.pyplot as plt\n",
    "import seaborn as sns\n",
    "import pandas as pd\n",
    "from meteostat import Point, Daily\n",
    "import os"
   ]
  },
  {
   "cell_type": "markdown",
   "metadata": {},
   "source": [
    "# Apply Seaborn Theme For Plots"
   ]
  },
  {
   "cell_type": "code",
   "execution_count": 3,
   "metadata": {},
   "outputs": [],
   "source": [
    "sns.set_theme(style=\"darkgrid\")"
   ]
  },
  {
   "cell_type": "markdown",
   "metadata": {},
   "source": [
    "# Instructions Widget"
   ]
  },
  {
   "cell_type": "code",
   "execution_count": 4,
   "metadata": {},
   "outputs": [],
   "source": [
    "instructions = widgets.Label(value=\"1. Select a location on the map. 2. Choose start and end dates. 3. Download the data. 4. Select variables to visualize. 5. Visualize and save the data.\")\n"
   ]
  },
  {
   "cell_type": "markdown",
   "metadata": {},
   "source": [
    "# Global Variables fo latitude, longitude, and downloaded data"
   ]
  },
  {
   "cell_type": "code",
   "execution_count": 4,
   "metadata": {},
   "outputs": [],
   "source": [
    "global selected_latitude, selected_longitude, downloaded_data\n",
    "selected_latitude = None\n",
    "selected_longitude = None\n",
    "downloaded_data = pd.DataFrame()"
   ]
  },
  {
   "cell_type": "markdown",
   "metadata": {},
   "source": [
    "Each key in the dictionary represents a variable, while the corresponding value represents its unit of measurement."
   ]
  },
  {
   "cell_type": "markdown",
   "metadata": {},
   "source": [
    "# Variable units dictionary"
   ]
  },
  {
   "cell_type": "code",
   "execution_count": 5,
   "metadata": {},
   "outputs": [],
   "source": [
    "variable_units = {\n",
    "    'time': 'Date',\n",
    "    'tavg': 'Average Temperature (°C)',\n",
    "    'tmin': 'Minimum Temperature (°C)',\n",
    "    'tmax': 'Maximum Temperature (°C)',\n",
    "    'prcp': 'Precipitation (mm)',\n",
    "    'snow': 'Snow Depth (mm)',\n",
    "    'wdir': 'Wind Direction (°)',\n",
    "    'wspd': 'Wind Speed (km/h)',\n",
    "    'wpgt': 'Peak Wind Gust (km/h)',\n",
    "    'pres': 'Air Pressure (hPa)',\n",
    "    'tsun': 'Sunshine Duration (m)'\n",
    "}"
   ]
  },
  {
   "cell_type": "markdown",
   "metadata": {},
   "source": [
    "# Initialize map for location selection"
   ]
  },
  {
   "cell_type": "code",
   "execution_count": 6,
   "metadata": {},
   "outputs": [],
   "source": [
    "m = Map(center=(20, 0), zoom=2, basemap=basemaps.OpenStreetMap.Mapnik, scroll_wheel_zoom=True)\n",
    "current_marker = None\n",
    "\n",
    "def handle_map_click(**kwargs):\n",
    "    global selected_latitude, selected_longitude, current_marker\n",
    "    if kwargs.get('type') == 'click':\n",
    "        latlon = kwargs.get('coordinates')\n",
    "        selected_latitude, selected_longitude = latlon[0], latlon[1]\n",
    "        if current_marker is not None:\n",
    "            m.remove_layer(current_marker)\n",
    "        current_marker = Marker(location=latlon)\n",
    "        m.add_layer(current_marker)A\n",
    "\n",
    "# Connect map click event\n",
    "m.on_interaction(handle_map_click)"
   ]
  },
  {
   "cell_type": "code",
   "execution_count": 7,
   "metadata": {},
   "outputs": [],
   "source": [
    "# Date selection widgets\n",
    "start_date_picker = widgets.DatePicker(description='Start Date', disabled=False)\n",
    "end_date_picker = widgets.DatePicker(description='End Date', disabled=False)\n",
    "\n",
    "# Dropdown for selecting columns to visualize\n",
    "column_selector = widgets.SelectMultiple(options=[], description='Columns:', disabled=False)\n",
    "\n",
    "# Button to download data based on selected dates and location\n",
    "download_data_button = widgets.Button(description='Download Data', button_style='info', icon='download')\n",
    "\n",
    "# Button for visualization and saving of selected data\n",
    "plot_save_button = widgets.Button(description='Visualize and Save', icon='chart-line')\n",
    "\n",
    "# Output area\n",
    "output_plot = widgets.Output()"
   ]
  },
  {
   "cell_type": "code",
   "execution_count": 8,
   "metadata": {},
   "outputs": [],
   "source": [
    "def on_download_data_button_clicked(b):\n",
    "    global downloaded_data\n",
    "    with output_plot:\n",
    "        output_plot.clear_output()\n",
    "        if start_date_picker.value and end_date_picker.value and selected_latitude and selected_longitude:\n",
    "            start_date = pd.to_datetime(start_date_picker.value)\n",
    "            end_date = pd.to_datetime(end_date_picker.value)\n",
    "            location = Point(selected_latitude, selected_longitude)\n",
    "            downloaded_data = Daily(location, start_date, end_date).fetch()\n",
    "            column_selector.options = downloaded_data.columns\n",
    "            print(\"Data downloaded successfully. Please select columns to visualize and save.\")\n",
    "        else:\n",
    "            print(\"Please select start and end dates, and a location on the map.\")"
   ]
  },
  {
   "cell_type": "code",
   "execution_count": 9,
   "metadata": {},
   "outputs": [],
   "source": [
    "def on_plot_save_button_clicked(b):\n",
    "    selected_columns = column_selector.value\n",
    "    if not downloaded_data.empty and selected_columns:\n",
    "        with output_plot:\n",
    "            output_plot.clear_output(wait=True)\n",
    "            plt.figure(figsize=(10, 6))\n",
    "            for column in selected_columns:\n",
    "              plt.plot(downloaded_data.index, downloaded_data[column], marker='o', linestyle='-', markersize=5, label=f\"{column} ({variable_units.get(column, '')})\")\n",
    "            plt.title('Downloaded Data Over Selected Period')\n",
    "            plt.xlabel('Date')\n",
    "            ylabel = 'Various Units' if len(set([variable_units[col] for col in selected_columns])) > 1 else variable_units[selected_columns[0]]\n",
    "            plt.ylabel(ylabel)\n",
    "            plt.xticks(rotation=45)\n",
    "            plt.legend()\n",
    "            plt.tight_layout()\n",
    "            plt.show()\n",
    "            # Ensure the directory exists\n",
    "            save_dir = os.path.join('../Data')\n",
    "            os.makedirs(save_dir, exist_ok=True)\n",
    "\n",
    "            # Save selected columns to CSV\n",
    "            start_str = start_date_picker.value.strftime('%Y-%m-%d')\n",
    "            end_str = end_date_picker.value.strftime('%Y-%m-%d')\n",
    "            columns_str = '_'.join(selected_columns).replace('/', '_')\n",
    "            filename = os.path.join(save_dir, f\"{columns_str}_{start_str}_to_{end_str}.csv\")\n",
    "            downloaded_data[list(selected_columns)].to_csv(filename)\n",
    "            print(f\"Data saved to '{filename}'.\")\n",
    "    else:\n",
    "        with output_plot:\n",
    "            print(\"No data available for visualization. Please download data first and select columns.\")\n"
   ]
  },
  {
   "cell_type": "markdown",
   "metadata": {},
   "source": [
    "# Buttons & Display widgets and instructions"
   ]
  },
  {
   "cell_type": "code",
   "execution_count": null,
   "metadata": {},
   "outputs": [],
   "source": [
    "# Buttons\n",
    "download_data_button.on_click(on_download_data_button_clicked)\n",
    "plot_save_button.on_click(on_plot_save_button_clicked)\n",
    "# Display widgets and instructions\n",
    "display(instructions)\n",
    "display(m)\n",
    "widgets.VBox([widgets.HBox([start_date_picker, end_date_picker]), download_data_button, column_selector, plot_save_button, output_plot])\n"
   ]
  },
  {
   "cell_type": "markdown",
   "metadata": {},
   "source": [
    "# 👨‍💻 Developer\n",
    "\n",
    "This Project Was Developed And Built By Punjaji Karhale🚀"
   ]
  }
 ],
 "metadata": {
  "kernelspec": {
   "display_name": "base",
   "language": "python",
   "name": "python3"
  },
  "language_info": {
   "codemirror_mode": {
    "name": "ipython",
    "version": 3
   },
   "file_extension": ".py",
   "mimetype": "text/x-python",
   "name": "python",
   "nbconvert_exporter": "python",
   "pygments_lexer": "ipython3",
   "version": "3.12.4"
  }
 },
 "nbformat": 4,
 "nbformat_minor": 2
}
